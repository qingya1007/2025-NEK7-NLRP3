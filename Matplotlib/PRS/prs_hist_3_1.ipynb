{
 "cells": [
  {
   "cell_type": "code",
   "execution_count": 1,
   "id": "91c4e2cd-4b28-4eba-8bbd-5890a2e917d2",
   "metadata": {},
   "outputs": [],
   "source": [
    "import seaborn as sns\n",
    "import matplotlib.pyplot as plt\n",
    "import numpy as np\n",
    "import matplotlib.pylab as plt\n",
    "import os\n",
    "import scienceplots as sp \n",
    "plt.style.use('nature')\n",
    "import pandas as pd"
   ]
  },
  {
   "cell_type": "code",
   "execution_count": 2,
   "id": "9e2eb8c8-a822-4305-ae4a-2fce6776c0f0",
   "metadata": {},
   "outputs": [],
   "source": [
    "x1=np.loadtxt('/home/jinp/project/NLRP3/PRS/noNEK7/frame26198/result.csv',comments=\"correlations\")\n",
    "\n"
   ]
  },
  {
   "cell_type": "code",
   "execution_count": 3,
   "id": "ef148bcb-87e2-4271-b8ca-f82a7c4d8e50",
   "metadata": {},
   "outputs": [],
   "source": [
    "x2=np.loadtxt('/home/jinp/project/NLRP3/PRS/addNEK7/frame10003/result.csv',comments=\"correlations\")\n",
    "\n"
   ]
  },
  {
   "cell_type": "code",
   "execution_count": 4,
   "id": "e8450cee-131e-4548-b103-137af20ddcd9",
   "metadata": {},
   "outputs": [],
   "source": [
    "#x3=np.loadtxt('/home/jinp/project/NLRP3/PRS/addNEK7/mainstate2/frame86234/result.csv',comments=\"correlations\")\n"
   ]
  },
  {
   "cell_type": "code",
   "execution_count": 5,
   "id": "42860819-7216-4369-b972-b92f1f9de687",
   "metadata": {},
   "outputs": [],
   "source": [
    "x4=np.loadtxt('/home/jinp/project/NLRP3/PRS/addNEK7/CMD/result.csv',comments=\"correlations\")\n"
   ]
  },
  {
   "cell_type": "code",
   "execution_count": null,
   "id": "9435f652-1825-485b-909c-99796eb6bb53",
   "metadata": {},
   "outputs": [],
   "source": []
  },
  {
   "cell_type": "code",
   "execution_count": 6,
   "id": "ac9a44d7-67f5-4e19-aade-51c228b2f4da",
   "metadata": {},
   "outputs": [],
   "source": [
    "data1 = pd.Series(x1)"
   ]
  },
  {
   "cell_type": "code",
   "execution_count": 7,
   "id": "941c5c8b-7108-4b86-86e6-7c639d59e4a5",
   "metadata": {},
   "outputs": [],
   "source": [
    "data2 = pd.Series(x2)"
   ]
  },
  {
   "cell_type": "code",
   "execution_count": 8,
   "id": "8de6e380-b7c0-4525-8986-71cff49d895e",
   "metadata": {},
   "outputs": [],
   "source": [
    "#data3 = pd.Series(x3)"
   ]
  },
  {
   "cell_type": "code",
   "execution_count": 9,
   "id": "f064a7c9-5d29-436e-8a3c-b3098ebe6a0c",
   "metadata": {},
   "outputs": [],
   "source": [
    "data4 = pd.Series(x4)"
   ]
  },
  {
   "cell_type": "code",
   "execution_count": null,
   "id": "156edb02-cbae-4776-be14-d4d1011b501d",
   "metadata": {},
   "outputs": [],
   "source": [
    "plt.figure(figsize=(3.2,1.9),dpi=300)\n",
    "plt.hist(data1,density = True,color='blue',label = '$S_{1}$', rwidth=0.9,alpha = 0.8)\n",
    "data1.plot(kind = 'kde',color='royalblue',lw=0.6)\n",
    "\n",
    "plt.hist(data2,density = True,color='red',label = '$S_{1}$', rwidth=0.9,alpha = 0.8)\n",
    "\n",
    "data2.plot(kind = 'kde',color='salmon',lw=0.6)\n",
    "\n",
    "\n",
    "\n",
    "\n",
    "\n",
    "#plt.hist(data3,density = True,color='mediumslateblue',label = 'S2$_{withNEK7}$', rwidth=0.9,alpha = 0.8)\n",
    "\n",
    "\n",
    "#data3.plot(kind = 'kde',color='darkslateblue')\n",
    "\n",
    "\n",
    "\n",
    "plt.hist(data4,density = True,color='green',label = '6NPY', rwidth=0.9,alpha = 0.7)\n",
    "\n",
    "\n",
    "data4.plot(kind = 'kde',color='limegreen',lw=0.6)\n",
    "\n",
    "\n",
    "\n",
    "\n",
    "plt.xlim([0,1])\n",
    "\n",
    "plt.xticks(fontsize=8)\n",
    "plt.yticks(np.arange(0, 15, step=2.5),fontsize=8)\n",
    "plt.ylim([0,12.5])\n",
    "\n",
    "\n",
    "plt.xlabel(\"C$_{i}$\",fontsize=8,labelpad=0)\n",
    "plt.ylabel(\"Probability Density\",fontsize=8,labelpad=0)\n",
    "plt.legend(fontsize=8)\n",
    "plt.title('to Active state',fontsize=8) \n",
    "plt.savefig('PRS_prob.svg',bbox_inches='tight',transparent=True)"
   ]
  },
  {
   "cell_type": "code",
   "execution_count": null,
   "id": "db27a65a-dcab-41a8-a1b2-cc6c4ddeea10",
   "metadata": {},
   "outputs": [],
   "source": [
    "\n",
    "#plt.title(\"C$_{t}$(HB)_I$_{withNEK7}$\",fontsize=13)\n",
    "#plt.ylabel('Probability density',fontsize=10)\n",
    "#plt.xlabel(\"Frames\",fontsize=10)\n",
    "#plt.bar(a,b,color='mediumblue',linewidth=0.4)\n",
    "#plt.xticks([])\n",
    "#plt.ylim(0, 60) \n",
    "\n",
    "\n",
    "\n",
    "#plt.savefig('PRS_prob.png',bbox_inches='tight',transparent=True)"
   ]
  },
  {
   "cell_type": "code",
   "execution_count": null,
   "id": "881d30d6-11be-4c65-ae8d-edc21b202e25",
   "metadata": {},
   "outputs": [],
   "source": []
  },
  {
   "cell_type": "code",
   "execution_count": null,
   "id": "9e7c7a13-432d-41a7-b5fe-781f4a62a674",
   "metadata": {},
   "outputs": [],
   "source": []
  },
  {
   "cell_type": "code",
   "execution_count": null,
   "id": "486c534a-ce79-4600-a3b1-db60832085d9",
   "metadata": {},
   "outputs": [],
   "source": []
  },
  {
   "cell_type": "code",
   "execution_count": null,
   "id": "75a21bda-9aef-473a-b528-004341b03be1",
   "metadata": {},
   "outputs": [],
   "source": []
  },
  {
   "cell_type": "code",
   "execution_count": null,
   "id": "01c14151-5732-4045-84c2-295ba872282a",
   "metadata": {},
   "outputs": [],
   "source": []
  },
  {
   "cell_type": "code",
   "execution_count": null,
   "id": "054ef9d2-7411-47dd-9955-49a03edd86e7",
   "metadata": {},
   "outputs": [],
   "source": []
  },
  {
   "cell_type": "code",
   "execution_count": null,
   "id": "890ab108-9276-4dc7-8ff6-edec8dcc8361",
   "metadata": {},
   "outputs": [],
   "source": []
  }
 ],
 "metadata": {
  "kernelspec": {
   "display_name": "Python 3 (ipykernel)",
   "language": "python",
   "name": "python3"
  },
  "language_info": {
   "codemirror_mode": {
    "name": "ipython",
    "version": 3
   },
   "file_extension": ".py",
   "mimetype": "text/x-python",
   "name": "python",
   "nbconvert_exporter": "python",
   "pygments_lexer": "ipython3",
   "version": "3.9.12"
  }
 },
 "nbformat": 4,
 "nbformat_minor": 5
}
