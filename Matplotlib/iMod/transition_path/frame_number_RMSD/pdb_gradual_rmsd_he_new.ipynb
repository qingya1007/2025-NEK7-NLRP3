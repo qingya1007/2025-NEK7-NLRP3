{
 "cells": [
  {
   "cell_type": "code",
   "execution_count": 1,
   "id": "9909e028-4134-4bad-a975-8c164abed0d4",
   "metadata": {},
   "outputs": [],
   "source": [
    "import numpy as np\n",
    "import matplotlib.pylab as plt\n",
    "import seaborn as sns\n",
    "from mpl_toolkits.axes_grid1 import host_subplot\n",
    "\n",
    "import matplotlib.pyplot as plt\n",
    "import matplotlib.patches as patches\n",
    "from scipy.stats import gaussian_kde\n",
    "import os"
   ]
  },
  {
   "cell_type": "code",
   "execution_count": 2,
   "id": "4d963c28-0f28-4b50-b2a6-cfeb8fec180e",
   "metadata": {},
   "outputs": [],
   "source": [
    "import scienceplots as sp\n",
    "plt.style.use('nature')"
   ]
  },
  {
   "cell_type": "code",
   "execution_count": 3,
   "id": "0523424e-a171-4456-98f0-d7391efa76e1",
   "metadata": {},
   "outputs": [],
   "source": [
    "rootdir1=\"/home/jinp/project/NLRP3/inactive_to_active_transition_path/imod_1_original/pdb_rmsd\""
   ]
  },
  {
   "cell_type": "code",
   "execution_count": 4,
   "id": "33f26a1c-d43c-43e0-8238-1dc3d06e840c",
   "metadata": {},
   "outputs": [],
   "source": [
    "def readData(indx):\n",
    "    \"\"\"\n",
    "    This is a custom function to readin the data; \n",
    "    \"\"\"\n",
    "    file1 = os.path.join(rootdir1,\"pdb_inactive_rmsd_\"+str(indx)+\".dat\")\n",
    "    data1=np.loadtxt(file1)\n",
    "    return data1"
   ]
  },
  {
   "cell_type": "code",
   "execution_count": 5,
   "id": "ab555dab-4571-45ef-894c-202d88822a75",
   "metadata": {},
   "outputs": [],
   "source": [
    "alldata1=[readData(i) for i in np.arange(1,169)]"
   ]
  },
  {
   "cell_type": "code",
   "execution_count": 6,
   "id": "2e5b3d00-0378-414d-b80b-ef533b943fb4",
   "metadata": {},
   "outputs": [
    {
     "name": "stdout",
     "output_type": "stream",
     "text": [
      "[array([1., 0.]), array([1.    , 0.2555]), array([1.    , 0.4965]), array([1.    , 0.6767]), array([1.    , 0.9083]), array([1.    , 1.1504]), array([1.    , 1.3719]), array([1.    , 1.6109]), array([1.   , 1.857]), array([1.    , 2.1114]), array([1.    , 2.3373]), array([1.    , 2.5965]), array([1.   , 2.818]), array([1.    , 3.0582]), array([1.    , 3.2802]), array([1.    , 3.5128]), array([1.    , 3.7539]), array([1.    , 3.9919]), array([1.    , 4.2201]), array([1.    , 4.4589]), array([1.    , 4.6613]), array([1.    , 4.8558]), array([1.    , 5.0798]), array([1.    , 5.3411]), array([1.    , 5.5737]), array([1.    , 5.8124]), array([1.   , 6.033]), array([1.    , 6.2397]), array([1.    , 6.4636]), array([1.    , 6.6795]), array([1.    , 6.9049]), array([1.    , 7.1177]), array([1.    , 7.3367]), array([1.    , 7.5411]), array([1.    , 7.7561]), array([1.    , 7.9661]), array([1.    , 8.1784]), array([1.   , 8.392]), array([1.    , 8.6218]), array([1.    , 8.8321]), array([1.    , 9.0438]), array([1.    , 9.2424]), array([1.   , 9.475]), array([1.    , 9.7057]), array([1.   , 9.904]), array([ 1.    , 10.1182]), array([ 1.   , 10.337]), array([ 1.    , 10.5765]), array([ 1.    , 10.8095]), array([ 1.   , 11.041]), array([ 1.    , 11.2329]), array([ 1.    , 11.4913]), array([ 1.    , 11.7043]), array([ 1.    , 11.9216]), array([ 1.    , 12.1178]), array([ 1.    , 12.3253]), array([ 1.    , 12.5371]), array([ 1.    , 12.7604]), array([ 1.    , 12.9772]), array([ 1.    , 13.1877]), array([ 1.    , 13.3873]), array([ 1.    , 13.6076]), array([ 1.   , 13.833]), array([ 1.    , 14.0448]), array([ 1.    , 14.2628]), array([ 1.    , 14.4721]), array([ 1.    , 14.6733]), array([ 1.    , 14.8555]), array([ 1.    , 15.0576]), array([ 1.    , 15.2594]), array([ 1.    , 15.4806]), array([ 1.    , 15.6953]), array([ 1.    , 15.8933]), array([ 1.    , 16.1161]), array([ 1.    , 16.3092]), array([ 1.   , 16.523]), array([ 1.    , 16.7267]), array([ 1.   , 16.931]), array([ 1.    , 17.1434]), array([ 1.    , 17.3507]), array([ 1.   , 17.547]), array([ 1.    , 17.7363]), array([ 1.    , 17.9014]), array([ 1.    , 18.0982]), array([ 1.    , 18.3115]), array([ 1.    , 18.3591]), array([ 1.    , 18.4694]), array([ 1.    , 18.5409]), array([ 1.    , 18.3249]), array([ 1.    , 18.2982]), array([ 1.    , 18.1712]), array([ 1.    , 18.0682]), array([ 1.    , 17.9369]), array([ 1.   , 17.776]), array([ 1.    , 17.8224]), array([ 1.    , 18.0058]), array([ 1.    , 18.2916]), array([ 1.    , 18.3294]), array([ 1.    , 18.5728]), array([ 1.    , 18.9088]), array([ 1.    , 19.1997]), array([ 1.    , 19.2779]), array([ 1.    , 19.2631]), array([ 1.    , 18.9919]), array([ 1.    , 19.1809]), array([ 1.    , 19.2679]), array([ 1.    , 19.1575]), array([ 1.    , 18.9136]), array([ 1.    , 18.8965]), array([ 1.   , 18.999]), array([ 1.    , 18.7474]), array([ 1.    , 18.7863]), array([ 1.    , 18.6498]), array([ 1.    , 18.4837]), array([ 1.    , 18.3342]), array([ 1.    , 18.1818]), array([ 1.    , 17.9945]), array([ 1.    , 17.7686]), array([ 1.    , 17.4997]), array([ 1.    , 17.4557]), array([ 1.    , 17.2101]), array([ 1.  , 17.21]), array([ 1.    , 17.1458]), array([ 1.    , 16.9868]), array([ 1.    , 16.8168]), array([ 1.    , 16.6377]), array([ 1.   , 16.378]), array([ 1.    , 16.3252]), array([ 1.    , 16.3022]), array([ 1.    , 16.3643]), array([ 1.    , 16.5747]), array([ 1.   , 16.678]), array([ 1.    , 16.6787]), array([ 1.    , 16.6809]), array([ 1.    , 16.7694]), array([ 1.    , 16.8009]), array([ 1.    , 16.8874]), array([ 1.    , 16.9322]), array([ 1.   , 16.983]), array([ 1.    , 17.0643]), array([ 1.    , 17.1479]), array([ 1.    , 17.2133]), array([ 1.    , 17.3157]), array([ 1.    , 17.3224]), array([ 1.   , 17.354]), array([ 1.    , 17.4026]), array([ 1.   , 17.473]), array([ 1.    , 17.5545]), array([ 1.    , 17.6609]), array([ 1.    , 17.7583]), array([ 1.    , 17.8757]), array([ 1.    , 17.9413]), array([ 1.    , 18.0625]), array([ 1.    , 18.0705]), array([ 1.   , 18.167]), array([ 1.    , 18.2691]), array([ 1.    , 18.3536]), array([ 1.    , 18.4211]), array([ 1.    , 18.5004]), array([ 1.   , 18.574]), array([ 1.    , 18.6025]), array([ 1.    , 18.6779]), array([ 1.    , 18.7629]), array([ 1.    , 18.7999]), array([ 1.   , 18.811]), array([ 1.    , 18.8541]), array([ 1.    , 18.8848]), array([ 1.    , 20.6025])]\n"
     ]
    }
   ],
   "source": [
    "print(alldata1)"
   ]
  },
  {
   "cell_type": "code",
   "execution_count": 7,
   "id": "8bae9f40-3b86-4c04-bea2-13f00230f911",
   "metadata": {},
   "outputs": [],
   "source": [
    "def readData(indx):\n",
    "\n",
    "\n",
    "    rootdir2=\"/home/jinp/project/NLRP3/inactive_to_active_transition_path/add_NEK7/pdb_rmsd\"\n",
    "    file2 = os.path.join(rootdir2,\"pdb_rmsd_\"+str(indx)+\".dat\")\n",
    "    data2=np.loadtxt(file2)\n",
    "    return data2"
   ]
  },
  {
   "cell_type": "code",
   "execution_count": 8,
   "id": "9b646e26-9688-4f54-b82c-233a740e68cb",
   "metadata": {},
   "outputs": [],
   "source": [
    "alldata2=[readData(i) for i in np.arange(1,192)]"
   ]
  },
  {
   "cell_type": "code",
   "execution_count": 9,
   "id": "7c0aeb71-13f5-4072-a40b-2bb328e17a88",
   "metadata": {},
   "outputs": [
    {
     "name": "stdout",
     "output_type": "stream",
     "text": [
      "191\n"
     ]
    }
   ],
   "source": [
    "print(len(alldata2))"
   ]
  },
  {
   "cell_type": "code",
   "execution_count": 10,
   "id": "0d457f1a-daa0-46fc-8815-dbb9070d8367",
   "metadata": {},
   "outputs": [
    {
     "name": "stdout",
     "output_type": "stream",
     "text": [
      "[array([1., 0.]), array([1.    , 0.2096]), array([1.    , 0.4034]), array([1.    , 0.5565]), array([1.   , 0.766]), array([1.    , 0.9605]), array([1.    , 1.1614]), array([1.    , 1.3173]), array([1.    , 1.4973]), array([1.    , 1.7059]), array([1.    , 1.9223]), array([1.    , 2.1217]), array([1.   , 2.315]), array([1.    , 2.5046]), array([1.    , 2.6802]), array([1.    , 2.8922]), array([1.    , 3.0764]), array([1.    , 3.2655]), array([1.    , 3.4806]), array([1.    , 3.6815]), array([1.    , 3.8739]), array([1.    , 4.0576]), array([1.    , 4.2491]), array([1.    , 4.4296]), array([1.    , 4.6217]), array([1.    , 4.8058]), array([1.    , 4.9983]), array([1.    , 5.1794]), array([1.    , 5.3435]), array([1.    , 5.5297]), array([1.    , 5.7148]), array([1.    , 5.8929]), array([1.    , 6.0768]), array([1.    , 6.2643]), array([1.    , 6.4586]), array([1.    , 6.6616]), array([1.   , 6.841]), array([1.    , 7.0015]), array([1.    , 7.1725]), array([1.    , 7.3518]), array([1.    , 7.5275]), array([1.    , 7.6969]), array([1.    , 7.8776]), array([1.    , 8.0578]), array([1.    , 8.2461]), array([1.    , 8.4316]), array([1.   , 8.608]), array([1.    , 8.8008]), array([1.    , 8.9697]), array([1.    , 9.1457]), array([1.  , 9.32]), array([1.    , 9.4949]), array([1.    , 9.6631]), array([1.    , 9.8552]), array([ 1.    , 10.0255]), array([ 1.    , 10.1933]), array([ 1.   , 10.353]), array([ 1.    , 10.5189]), array([ 1.    , 10.6837]), array([ 1.    , 10.8587]), array([ 1.    , 11.0078]), array([ 1.    , 11.1577]), array([ 1.    , 11.3293]), array([ 1.    , 11.4929]), array([ 1.    , 11.6307]), array([ 1.    , 11.7873]), array([ 1.    , 11.9664]), array([ 1.    , 12.1316]), array([ 1.    , 12.2805]), array([ 1.    , 12.4274]), array([ 1.    , 12.6045]), array([ 1.   , 12.763]), array([ 1.   , 12.919]), array([ 1.    , 13.0967]), array([ 1.    , 13.2626]), array([ 1.    , 13.4254]), array([ 1.    , 13.5782]), array([ 1.   , 13.725]), array([ 1.    , 13.8856]), array([ 1.    , 14.0482]), array([ 1.    , 14.1929]), array([ 1.    , 14.3625]), array([ 1.    , 14.5184]), array([ 1.   , 14.677]), array([ 1.    , 14.8446]), array([ 1.    , 14.9995]), array([ 1.    , 15.1438]), array([ 1.    , 15.2982]), array([ 1.    , 15.4505]), array([ 1.    , 15.5862]), array([ 1.    , 15.7222]), array([ 1.    , 15.8802]), array([ 1.   , 16.044]), array([ 1.    , 16.1906]), array([ 1.    , 16.3308]), array([ 1.    , 16.4875]), array([ 1.    , 16.6052]), array([ 1.    , 16.7644]), array([ 1.   , 16.934]), array([ 1.    , 16.9328]), array([ 1.    , 17.1381]), array([ 1.    , 17.2252]), array([ 1.    , 17.1723]), array([ 1.    , 16.9144]), array([ 1.    , 16.9201]), array([ 1.    , 16.7401]), array([ 1.    , 16.5983]), array([ 1.    , 16.3711]), array([ 1.    , 16.1513]), array([ 1.    , 15.9002]), array([ 1.    , 15.7296]), array([ 1.    , 15.5205]), array([ 1.   , 15.358]), array([ 1.    , 15.1446]), array([ 1.    , 15.0743]), array([ 1.    , 14.7985]), array([ 1.    , 14.6499]), array([ 1.    , 14.4194]), array([ 1.    , 14.3684]), array([ 1.   , 14.327]), array([ 1.    , 14.3799]), array([ 1.    , 14.3845]), array([ 1.    , 14.3269]), array([ 1.    , 14.1811]), array([ 1.    , 13.9955]), array([ 1.    , 13.7918]), array([ 1.    , 13.5748]), array([ 1.    , 13.5555]), array([ 1.    , 13.4207]), array([ 1.    , 13.4388]), array([ 1.   , 13.564]), array([ 1.    , 13.7707]), array([ 1.    , 14.0111]), array([ 1.    , 14.3614]), array([ 1.    , 14.7315]), array([ 1.    , 15.0455]), array([ 1.   , 15.356]), array([ 1.    , 15.5302]), array([ 1.    , 15.5678]), array([ 1.    , 15.6433]), array([ 1.   , 15.719]), array([ 1.    , 15.8753]), array([ 1.    , 15.9712]), array([ 1.    , 16.2552]), array([ 1.    , 16.4547]), array([ 1.   , 16.585]), array([ 1.    , 16.7268]), array([ 1.    , 16.7037]), array([ 1.    , 16.8447]), array([ 1.    , 16.9628]), array([ 1.    , 17.0551]), array([ 1.    , 17.1904]), array([ 1.    , 17.3496]), array([ 1.    , 17.3659]), array([ 1.    , 17.5128]), array([ 1.    , 17.5811]), array([ 1.    , 17.6731]), array([ 1.    , 17.6843]), array([ 1.    , 17.7429]), array([ 1.    , 17.8441]), array([ 1.    , 17.5525]), array([ 1.    , 17.6585]), array([ 1.    , 17.7584]), array([ 1.    , 17.8713]), array([ 1.    , 17.9358]), array([ 1.    , 17.9224]), array([ 1.    , 17.9254]), array([ 1.    , 17.9626]), array([ 1.    , 17.9723]), array([ 1.    , 18.0933]), array([ 1.    , 18.2028]), array([ 1.    , 18.3158]), array([ 1.    , 18.3328]), array([ 1.   , 18.336]), array([ 1.    , 18.3418]), array([ 1.    , 18.4051]), array([ 1.    , 18.5236]), array([ 1.   , 18.578]), array([ 1.    , 18.6678]), array([ 1.   , 18.722]), array([ 1.    , 18.8056]), array([ 1.    , 18.8598]), array([ 1.    , 18.6131]), array([ 1.    , 18.7744]), array([ 1.    , 18.9569]), array([ 1.  , 18.97]), array([ 1.    , 18.7785]), array([ 1.    , 18.8753]), array([ 1.    , 18.7248]), array([ 1.    , 19.0181]), array([ 1.    , 20.5911])]\n"
     ]
    }
   ],
   "source": [
    "print(alldata2)"
   ]
  },
  {
   "cell_type": "code",
   "execution_count": 11,
   "id": "dfd03c82-c2db-43b3-99c1-b41e499dbd67",
   "metadata": {},
   "outputs": [],
   "source": [
    "d=np.reshape(alldata1,(168,2))"
   ]
  },
  {
   "cell_type": "code",
   "execution_count": 12,
   "id": "d62bcd9d-265a-4a39-8d3b-38645e9b1190",
   "metadata": {},
   "outputs": [
    {
     "name": "stdout",
     "output_type": "stream",
     "text": [
      "[[ 1.      0.    ]\n",
      " [ 1.      0.2555]\n",
      " [ 1.      0.4965]\n",
      " [ 1.      0.6767]\n",
      " [ 1.      0.9083]\n",
      " [ 1.      1.1504]\n",
      " [ 1.      1.3719]\n",
      " [ 1.      1.6109]\n",
      " [ 1.      1.857 ]\n",
      " [ 1.      2.1114]\n",
      " [ 1.      2.3373]\n",
      " [ 1.      2.5965]\n",
      " [ 1.      2.818 ]\n",
      " [ 1.      3.0582]\n",
      " [ 1.      3.2802]\n",
      " [ 1.      3.5128]\n",
      " [ 1.      3.7539]\n",
      " [ 1.      3.9919]\n",
      " [ 1.      4.2201]\n",
      " [ 1.      4.4589]\n",
      " [ 1.      4.6613]\n",
      " [ 1.      4.8558]\n",
      " [ 1.      5.0798]\n",
      " [ 1.      5.3411]\n",
      " [ 1.      5.5737]\n",
      " [ 1.      5.8124]\n",
      " [ 1.      6.033 ]\n",
      " [ 1.      6.2397]\n",
      " [ 1.      6.4636]\n",
      " [ 1.      6.6795]\n",
      " [ 1.      6.9049]\n",
      " [ 1.      7.1177]\n",
      " [ 1.      7.3367]\n",
      " [ 1.      7.5411]\n",
      " [ 1.      7.7561]\n",
      " [ 1.      7.9661]\n",
      " [ 1.      8.1784]\n",
      " [ 1.      8.392 ]\n",
      " [ 1.      8.6218]\n",
      " [ 1.      8.8321]\n",
      " [ 1.      9.0438]\n",
      " [ 1.      9.2424]\n",
      " [ 1.      9.475 ]\n",
      " [ 1.      9.7057]\n",
      " [ 1.      9.904 ]\n",
      " [ 1.     10.1182]\n",
      " [ 1.     10.337 ]\n",
      " [ 1.     10.5765]\n",
      " [ 1.     10.8095]\n",
      " [ 1.     11.041 ]\n",
      " [ 1.     11.2329]\n",
      " [ 1.     11.4913]\n",
      " [ 1.     11.7043]\n",
      " [ 1.     11.9216]\n",
      " [ 1.     12.1178]\n",
      " [ 1.     12.3253]\n",
      " [ 1.     12.5371]\n",
      " [ 1.     12.7604]\n",
      " [ 1.     12.9772]\n",
      " [ 1.     13.1877]\n",
      " [ 1.     13.3873]\n",
      " [ 1.     13.6076]\n",
      " [ 1.     13.833 ]\n",
      " [ 1.     14.0448]\n",
      " [ 1.     14.2628]\n",
      " [ 1.     14.4721]\n",
      " [ 1.     14.6733]\n",
      " [ 1.     14.8555]\n",
      " [ 1.     15.0576]\n",
      " [ 1.     15.2594]\n",
      " [ 1.     15.4806]\n",
      " [ 1.     15.6953]\n",
      " [ 1.     15.8933]\n",
      " [ 1.     16.1161]\n",
      " [ 1.     16.3092]\n",
      " [ 1.     16.523 ]\n",
      " [ 1.     16.7267]\n",
      " [ 1.     16.931 ]\n",
      " [ 1.     17.1434]\n",
      " [ 1.     17.3507]\n",
      " [ 1.     17.547 ]\n",
      " [ 1.     17.7363]\n",
      " [ 1.     17.9014]\n",
      " [ 1.     18.0982]\n",
      " [ 1.     18.3115]\n",
      " [ 1.     18.3591]\n",
      " [ 1.     18.4694]\n",
      " [ 1.     18.5409]\n",
      " [ 1.     18.3249]\n",
      " [ 1.     18.2982]\n",
      " [ 1.     18.1712]\n",
      " [ 1.     18.0682]\n",
      " [ 1.     17.9369]\n",
      " [ 1.     17.776 ]\n",
      " [ 1.     17.8224]\n",
      " [ 1.     18.0058]\n",
      " [ 1.     18.2916]\n",
      " [ 1.     18.3294]\n",
      " [ 1.     18.5728]\n",
      " [ 1.     18.9088]\n",
      " [ 1.     19.1997]\n",
      " [ 1.     19.2779]\n",
      " [ 1.     19.2631]\n",
      " [ 1.     18.9919]\n",
      " [ 1.     19.1809]\n",
      " [ 1.     19.2679]\n",
      " [ 1.     19.1575]\n",
      " [ 1.     18.9136]\n",
      " [ 1.     18.8965]\n",
      " [ 1.     18.999 ]\n",
      " [ 1.     18.7474]\n",
      " [ 1.     18.7863]\n",
      " [ 1.     18.6498]\n",
      " [ 1.     18.4837]\n",
      " [ 1.     18.3342]\n",
      " [ 1.     18.1818]\n",
      " [ 1.     17.9945]\n",
      " [ 1.     17.7686]\n",
      " [ 1.     17.4997]\n",
      " [ 1.     17.4557]\n",
      " [ 1.     17.2101]\n",
      " [ 1.     17.21  ]\n",
      " [ 1.     17.1458]\n",
      " [ 1.     16.9868]\n",
      " [ 1.     16.8168]\n",
      " [ 1.     16.6377]\n",
      " [ 1.     16.378 ]\n",
      " [ 1.     16.3252]\n",
      " [ 1.     16.3022]\n",
      " [ 1.     16.3643]\n",
      " [ 1.     16.5747]\n",
      " [ 1.     16.678 ]\n",
      " [ 1.     16.6787]\n",
      " [ 1.     16.6809]\n",
      " [ 1.     16.7694]\n",
      " [ 1.     16.8009]\n",
      " [ 1.     16.8874]\n",
      " [ 1.     16.9322]\n",
      " [ 1.     16.983 ]\n",
      " [ 1.     17.0643]\n",
      " [ 1.     17.1479]\n",
      " [ 1.     17.2133]\n",
      " [ 1.     17.3157]\n",
      " [ 1.     17.3224]\n",
      " [ 1.     17.354 ]\n",
      " [ 1.     17.4026]\n",
      " [ 1.     17.473 ]\n",
      " [ 1.     17.5545]\n",
      " [ 1.     17.6609]\n",
      " [ 1.     17.7583]\n",
      " [ 1.     17.8757]\n",
      " [ 1.     17.9413]\n",
      " [ 1.     18.0625]\n",
      " [ 1.     18.0705]\n",
      " [ 1.     18.167 ]\n",
      " [ 1.     18.2691]\n",
      " [ 1.     18.3536]\n",
      " [ 1.     18.4211]\n",
      " [ 1.     18.5004]\n",
      " [ 1.     18.574 ]\n",
      " [ 1.     18.6025]\n",
      " [ 1.     18.6779]\n",
      " [ 1.     18.7629]\n",
      " [ 1.     18.7999]\n",
      " [ 1.     18.811 ]\n",
      " [ 1.     18.8541]\n",
      " [ 1.     18.8848]\n",
      " [ 1.     20.6025]]\n"
     ]
    }
   ],
   "source": [
    "print(d)"
   ]
  },
  {
   "cell_type": "code",
   "execution_count": 13,
   "id": "df4f1895-8109-4dd6-8db2-be55ca0655bf",
   "metadata": {},
   "outputs": [],
   "source": [
    "f=np.reshape(alldata2,(191,2))"
   ]
  },
  {
   "cell_type": "code",
   "execution_count": 14,
   "id": "c616c92c-41b5-40fe-92b2-e0ac5feddab4",
   "metadata": {},
   "outputs": [
    {
     "name": "stdout",
     "output_type": "stream",
     "text": [
      "[[ 1.      0.    ]\n",
      " [ 1.      0.2096]\n",
      " [ 1.      0.4034]\n",
      " [ 1.      0.5565]\n",
      " [ 1.      0.766 ]\n",
      " [ 1.      0.9605]\n",
      " [ 1.      1.1614]\n",
      " [ 1.      1.3173]\n",
      " [ 1.      1.4973]\n",
      " [ 1.      1.7059]\n",
      " [ 1.      1.9223]\n",
      " [ 1.      2.1217]\n",
      " [ 1.      2.315 ]\n",
      " [ 1.      2.5046]\n",
      " [ 1.      2.6802]\n",
      " [ 1.      2.8922]\n",
      " [ 1.      3.0764]\n",
      " [ 1.      3.2655]\n",
      " [ 1.      3.4806]\n",
      " [ 1.      3.6815]\n",
      " [ 1.      3.8739]\n",
      " [ 1.      4.0576]\n",
      " [ 1.      4.2491]\n",
      " [ 1.      4.4296]\n",
      " [ 1.      4.6217]\n",
      " [ 1.      4.8058]\n",
      " [ 1.      4.9983]\n",
      " [ 1.      5.1794]\n",
      " [ 1.      5.3435]\n",
      " [ 1.      5.5297]\n",
      " [ 1.      5.7148]\n",
      " [ 1.      5.8929]\n",
      " [ 1.      6.0768]\n",
      " [ 1.      6.2643]\n",
      " [ 1.      6.4586]\n",
      " [ 1.      6.6616]\n",
      " [ 1.      6.841 ]\n",
      " [ 1.      7.0015]\n",
      " [ 1.      7.1725]\n",
      " [ 1.      7.3518]\n",
      " [ 1.      7.5275]\n",
      " [ 1.      7.6969]\n",
      " [ 1.      7.8776]\n",
      " [ 1.      8.0578]\n",
      " [ 1.      8.2461]\n",
      " [ 1.      8.4316]\n",
      " [ 1.      8.608 ]\n",
      " [ 1.      8.8008]\n",
      " [ 1.      8.9697]\n",
      " [ 1.      9.1457]\n",
      " [ 1.      9.32  ]\n",
      " [ 1.      9.4949]\n",
      " [ 1.      9.6631]\n",
      " [ 1.      9.8552]\n",
      " [ 1.     10.0255]\n",
      " [ 1.     10.1933]\n",
      " [ 1.     10.353 ]\n",
      " [ 1.     10.5189]\n",
      " [ 1.     10.6837]\n",
      " [ 1.     10.8587]\n",
      " [ 1.     11.0078]\n",
      " [ 1.     11.1577]\n",
      " [ 1.     11.3293]\n",
      " [ 1.     11.4929]\n",
      " [ 1.     11.6307]\n",
      " [ 1.     11.7873]\n",
      " [ 1.     11.9664]\n",
      " [ 1.     12.1316]\n",
      " [ 1.     12.2805]\n",
      " [ 1.     12.4274]\n",
      " [ 1.     12.6045]\n",
      " [ 1.     12.763 ]\n",
      " [ 1.     12.919 ]\n",
      " [ 1.     13.0967]\n",
      " [ 1.     13.2626]\n",
      " [ 1.     13.4254]\n",
      " [ 1.     13.5782]\n",
      " [ 1.     13.725 ]\n",
      " [ 1.     13.8856]\n",
      " [ 1.     14.0482]\n",
      " [ 1.     14.1929]\n",
      " [ 1.     14.3625]\n",
      " [ 1.     14.5184]\n",
      " [ 1.     14.677 ]\n",
      " [ 1.     14.8446]\n",
      " [ 1.     14.9995]\n",
      " [ 1.     15.1438]\n",
      " [ 1.     15.2982]\n",
      " [ 1.     15.4505]\n",
      " [ 1.     15.5862]\n",
      " [ 1.     15.7222]\n",
      " [ 1.     15.8802]\n",
      " [ 1.     16.044 ]\n",
      " [ 1.     16.1906]\n",
      " [ 1.     16.3308]\n",
      " [ 1.     16.4875]\n",
      " [ 1.     16.6052]\n",
      " [ 1.     16.7644]\n",
      " [ 1.     16.934 ]\n",
      " [ 1.     16.9328]\n",
      " [ 1.     17.1381]\n",
      " [ 1.     17.2252]\n",
      " [ 1.     17.1723]\n",
      " [ 1.     16.9144]\n",
      " [ 1.     16.9201]\n",
      " [ 1.     16.7401]\n",
      " [ 1.     16.5983]\n",
      " [ 1.     16.3711]\n",
      " [ 1.     16.1513]\n",
      " [ 1.     15.9002]\n",
      " [ 1.     15.7296]\n",
      " [ 1.     15.5205]\n",
      " [ 1.     15.358 ]\n",
      " [ 1.     15.1446]\n",
      " [ 1.     15.0743]\n",
      " [ 1.     14.7985]\n",
      " [ 1.     14.6499]\n",
      " [ 1.     14.4194]\n",
      " [ 1.     14.3684]\n",
      " [ 1.     14.327 ]\n",
      " [ 1.     14.3799]\n",
      " [ 1.     14.3845]\n",
      " [ 1.     14.3269]\n",
      " [ 1.     14.1811]\n",
      " [ 1.     13.9955]\n",
      " [ 1.     13.7918]\n",
      " [ 1.     13.5748]\n",
      " [ 1.     13.5555]\n",
      " [ 1.     13.4207]\n",
      " [ 1.     13.4388]\n",
      " [ 1.     13.564 ]\n",
      " [ 1.     13.7707]\n",
      " [ 1.     14.0111]\n",
      " [ 1.     14.3614]\n",
      " [ 1.     14.7315]\n",
      " [ 1.     15.0455]\n",
      " [ 1.     15.356 ]\n",
      " [ 1.     15.5302]\n",
      " [ 1.     15.5678]\n",
      " [ 1.     15.6433]\n",
      " [ 1.     15.719 ]\n",
      " [ 1.     15.8753]\n",
      " [ 1.     15.9712]\n",
      " [ 1.     16.2552]\n",
      " [ 1.     16.4547]\n",
      " [ 1.     16.585 ]\n",
      " [ 1.     16.7268]\n",
      " [ 1.     16.7037]\n",
      " [ 1.     16.8447]\n",
      " [ 1.     16.9628]\n",
      " [ 1.     17.0551]\n",
      " [ 1.     17.1904]\n",
      " [ 1.     17.3496]\n",
      " [ 1.     17.3659]\n",
      " [ 1.     17.5128]\n",
      " [ 1.     17.5811]\n",
      " [ 1.     17.6731]\n",
      " [ 1.     17.6843]\n",
      " [ 1.     17.7429]\n",
      " [ 1.     17.8441]\n",
      " [ 1.     17.5525]\n",
      " [ 1.     17.6585]\n",
      " [ 1.     17.7584]\n",
      " [ 1.     17.8713]\n",
      " [ 1.     17.9358]\n",
      " [ 1.     17.9224]\n",
      " [ 1.     17.9254]\n",
      " [ 1.     17.9626]\n",
      " [ 1.     17.9723]\n",
      " [ 1.     18.0933]\n",
      " [ 1.     18.2028]\n",
      " [ 1.     18.3158]\n",
      " [ 1.     18.3328]\n",
      " [ 1.     18.336 ]\n",
      " [ 1.     18.3418]\n",
      " [ 1.     18.4051]\n",
      " [ 1.     18.5236]\n",
      " [ 1.     18.578 ]\n",
      " [ 1.     18.6678]\n",
      " [ 1.     18.722 ]\n",
      " [ 1.     18.8056]\n",
      " [ 1.     18.8598]\n",
      " [ 1.     18.6131]\n",
      " [ 1.     18.7744]\n",
      " [ 1.     18.9569]\n",
      " [ 1.     18.97  ]\n",
      " [ 1.     18.7785]\n",
      " [ 1.     18.8753]\n",
      " [ 1.     18.7248]\n",
      " [ 1.     19.0181]\n",
      " [ 1.     20.5911]]\n"
     ]
    }
   ],
   "source": [
    "print(f)"
   ]
  },
  {
   "cell_type": "code",
   "execution_count": 15,
   "id": "9c716f2d-885f-47c1-9bbc-ca508bfbcd5c",
   "metadata": {},
   "outputs": [
    {
     "name": "stdout",
     "output_type": "stream",
     "text": [
      "[ 0.      0.2096  0.4034  0.5565  0.766   0.9605  1.1614  1.3173  1.4973\n",
      "  1.7059  1.9223  2.1217  2.315   2.5046  2.6802  2.8922  3.0764  3.2655\n",
      "  3.4806  3.6815  3.8739  4.0576  4.2491  4.4296  4.6217  4.8058  4.9983\n",
      "  5.1794  5.3435  5.5297  5.7148  5.8929  6.0768  6.2643  6.4586  6.6616\n",
      "  6.841   7.0015  7.1725  7.3518  7.5275  7.6969  7.8776  8.0578  8.2461\n",
      "  8.4316  8.608   8.8008  8.9697  9.1457  9.32    9.4949  9.6631  9.8552\n",
      " 10.0255 10.1933 10.353  10.5189 10.6837 10.8587 11.0078 11.1577 11.3293\n",
      " 11.4929 11.6307 11.7873 11.9664 12.1316 12.2805 12.4274 12.6045 12.763\n",
      " 12.919  13.0967 13.2626 13.4254 13.5782 13.725  13.8856 14.0482 14.1929\n",
      " 14.3625 14.5184 14.677  14.8446 14.9995 15.1438 15.2982 15.4505 15.5862\n",
      " 15.7222 15.8802 16.044  16.1906 16.3308 16.4875 16.6052 16.7644 16.934\n",
      " 16.9328 17.1381 17.2252 17.1723 16.9144 16.9201 16.7401 16.5983 16.3711\n",
      " 16.1513 15.9002 15.7296 15.5205 15.358  15.1446 15.0743 14.7985 14.6499\n",
      " 14.4194 14.3684 14.327  14.3799 14.3845 14.3269 14.1811 13.9955 13.7918\n",
      " 13.5748 13.5555 13.4207 13.4388 13.564  13.7707 14.0111 14.3614 14.7315\n",
      " 15.0455 15.356  15.5302 15.5678 15.6433 15.719  15.8753 15.9712 16.2552\n",
      " 16.4547 16.585  16.7268 16.7037 16.8447 16.9628 17.0551 17.1904 17.3496\n",
      " 17.3659 17.5128 17.5811 17.6731 17.6843 17.7429 17.8441 17.5525 17.6585\n",
      " 17.7584 17.8713 17.9358 17.9224 17.9254 17.9626 17.9723 18.0933 18.2028\n",
      " 18.3158 18.3328 18.336  18.3418 18.4051 18.5236 18.578  18.6678 18.722\n",
      " 18.8056 18.8598 18.6131 18.7744 18.9569 18.97   18.7785 18.8753 18.7248\n",
      " 19.0181 20.5911]\n"
     ]
    }
   ],
   "source": [
    "print(f[:,1])"
   ]
  },
  {
   "cell_type": "code",
   "execution_count": 16,
   "id": "49b2e1a4-33f7-469f-abaf-4b06550fd882",
   "metadata": {},
   "outputs": [],
   "source": [
    "rootdir3=\"/home/jinp/project/NLRP3/inactive_to_active_transition_path/imod_1_original/pdb_rmsd\""
   ]
  },
  {
   "cell_type": "code",
   "execution_count": 17,
   "id": "48807a2b-80ec-4008-9414-f70e1a3d5669",
   "metadata": {},
   "outputs": [],
   "source": [
    "def readData(indx):\n",
    "    \"\"\"\n",
    "    This is a custom function to readin the data; \n",
    "    \"\"\"\n",
    "    file3 = os.path.join(rootdir3,\"pdb_compare_to_active_rmsd_\"+str(indx)+\".dat\")\n",
    "    data3=np.loadtxt(file3)\n",
    "    return data3"
   ]
  },
  {
   "cell_type": "code",
   "execution_count": 18,
   "id": "cce9c8c1-6fb2-4d77-bc89-af77a270d76a",
   "metadata": {},
   "outputs": [],
   "source": [
    "alldata3=[readData(i) for i in np.arange(1,169)]"
   ]
  },
  {
   "cell_type": "code",
   "execution_count": 19,
   "id": "029c2acb-d571-4218-b613-d03a30054319",
   "metadata": {},
   "outputs": [],
   "source": [
    "def readData(indx):\n",
    "\n",
    "\n",
    "    rootdir4=\"/home/jinp/project/NLRP3/inactive_to_active_transition_path/add_NEK7/pdb_rmsd\"\n",
    "    file4 = os.path.join(rootdir4,\"pdb_compare_to_active_rmsd_\"+str(indx)+\".dat\")\n",
    "    data4=np.loadtxt(file4)\n",
    "    return data4"
   ]
  },
  {
   "cell_type": "code",
   "execution_count": 20,
   "id": "6907c0a9-c0cd-4a6f-b1c3-9462718c2d4b",
   "metadata": {},
   "outputs": [],
   "source": [
    "alldata4=[readData(i) for i in np.arange(1,192)]"
   ]
  },
  {
   "cell_type": "code",
   "execution_count": 21,
   "id": "7e4509c1-cda7-41d4-8129-0270891874a9",
   "metadata": {},
   "outputs": [],
   "source": [
    "o=np.reshape(alldata3,(168,2))"
   ]
  },
  {
   "cell_type": "code",
   "execution_count": 22,
   "id": "a69b6fe2-7f3d-4aff-bc27-24d6c59ccbd3",
   "metadata": {},
   "outputs": [],
   "source": [
    "p=np.reshape(alldata4,(191,2))"
   ]
  },
  {
   "cell_type": "code",
   "execution_count": null,
   "id": "ac6f3b95-34b2-41be-9dbf-e1d7780ba6af",
   "metadata": {},
   "outputs": [],
   "source": []
  },
  {
   "cell_type": "code",
   "execution_count": 26,
   "id": "e354f451-3385-48e0-a38b-d9022a9f427f",
   "metadata": {},
   "outputs": [
    {
     "data": {
      "image/png": "[encoded data removed]",
      "text/plain": [
       "<Figure size 570x540 with 2 Axes>"
      ]
     },
     "metadata": {},
     "output_type": "display_data"
    }
   ],
   "source": [
    "#plt.figure(figsize=(3.1,1.8),dpi=300)\n",
    "\n",
    "fig, ax1 = plt.subplots(figsize=(1.9,1.8),dpi=300) \n",
    "\n",
    "#plt.plot(d[:,1],marker=\".\",markersize=1.6,color='red',lw=0.7,label='Without NEK7 compare to inactive RMSD')\n",
    "#plt.plot(f[:,1],marker=\".\",markersize=1.6,color='green',lw=0.7,label='With NEK7 compare to inactive RMSD')##\n",
    "\n",
    "#plt.plot(o[:,1],marker=\".\",markersize=1.6,color='salmon',lw=0.7,label='Without NEK7 compare to active RMSD')\n",
    "#plt.plot(p[:,1],marker=\".\",markersize=1.6,color='mediumseagreen',lw=0.7,label='With NEK7 compare to active RMSD')\n",
    "\n",
    "\n",
    "#plt.ylim([0,0.6])\n",
    "#plt.ylim([0,21])\n",
    "#plt.xlabel('Frame Number',fontsize=10)\n",
    "#plt.ylabel('RMSD to inactive ($\\AA$)',fontsize=10)\n",
    "#plt.legend(fontsize=13)\n",
    "\n",
    "\n",
    "\n",
    "\n",
    "#host = host_subplot(111)\n",
    "#par = host.twinx()\n",
    "ax2 = ax1.twinx() \n",
    "ax1.set_xlabel(\"Frame Number\",fontsize=6)\n",
    "ax1.set_ylabel(\"RMSD to Inactive ($\\AA$)\",fontsize=6)\n",
    "ax2.set_ylabel(\"RMSD to Active ($\\AA$)\",fontsize=6,color='red')\n",
    "\n",
    "\n",
    "ax1.plot(d[:,1],marker=\"o\",markersize=1.2,markevery=5,color='black',lw=0.7,label='Without$_{NEK7}')\n",
    "ax2.plot(f[:,1],marker=\"^\",markersize=1.2,markevery=5,color='black',lw=0.7,label='With$_{NEK7}$')\n",
    "ax1.plot(o[:,1],marker=\"o\",markersize=1.2,markevery=5,color='red',lw=0.7,label='Without$_{NEK7}$')\n",
    "ax2.plot(p[:,1],marker=\"^\",markersize=1.2,markevery=5,color='red',lw=0.7,label='With$_{NEK7}$')\n",
    "ax1.set_ylim([0,21])\n",
    "ax2.set_ylim([0,21])\n",
    "ax2.set_yticks([0, 2, 4,  6,8,10,12,14,16,18,20,22])\n",
    "ax1.set_yticks([0, 2, 4,  6,8,10,12,14,16,18,20,22])\n",
    "\n",
    "#host.legend(labelcolor=\"linecolor\",fontsize=6, bbox_to_anchor=(0.14, 0.27))\n",
    "ax2.tick_params(labelsize=6,color='red')\n",
    "ax1.tick_params(labelsize=6)\n",
    "\n",
    "plt.yticks(np.arange(0, 24, step=2),fontsize=6,color='red')\n",
    "plt.xticks(np.arange(0, 216, step=24),fontsize=8)\n",
    "#host.yaxis.label.set_color(p1.get_color())\n",
    "#par.yaxis.label.set_color(p2.get_color())\n",
    "plt.xlim([0,192])\n",
    "plt.ylim([0,22])\n",
    "\n",
    "plt.savefig('pdb_gradual_rmsd.svg',bbox_inches='tight',transparent=True)"
   ]
  },
  {
   "cell_type": "code",
   "execution_count": null,
   "id": "d86e1620-894e-4a74-af17-0efcb057a94f",
   "metadata": {},
   "outputs": [],
   "source": []
  },
  {
   "cell_type": "code",
   "execution_count": null,
   "id": "09c19356-e37b-4a3b-9722-a6ace71687df",
   "metadata": {},
   "outputs": [],
   "source": []
  },
  {
   "cell_type": "code",
   "execution_count": null,
   "id": "38293456-97d5-4a6e-b3f4-1898f1546497",
   "metadata": {},
   "outputs": [],
   "source": []
  },
  {
   "cell_type": "code",
   "execution_count": null,
   "id": "cfe68ea1-3ae1-4b2a-8cd4-53ed3b4563fc",
   "metadata": {},
   "outputs": [],
   "source": []
  },
  {
   "cell_type": "code",
   "execution_count": null,
   "id": "8da1afe0-037b-4ccc-9709-7689bdd2538b",
   "metadata": {},
   "outputs": [],
   "source": []
  },
  {
   "cell_type": "code",
   "execution_count": null,
   "id": "d670f071-9d9a-4135-a777-027cfbe7a963",
   "metadata": {},
   "outputs": [],
   "source": []
  },
  {
   "cell_type": "code",
   "execution_count": null,
   "id": "969ec00d-59d3-4536-b186-c9d1fc0cfc90",
   "metadata": {},
   "outputs": [],
   "source": []
  },
  {
   "cell_type": "code",
   "execution_count": null,
   "id": "2d7785ba-ddc6-474a-bbae-b62881721482",
   "metadata": {},
   "outputs": [],
   "source": []
  },
  {
   "cell_type": "code",
   "execution_count": null,
   "id": "f3f72151-19b8-4fb6-b529-05b4744ee2d0",
   "metadata": {},
   "outputs": [],
   "source": []
  },
  {
   "cell_type": "code",
   "execution_count": null,
   "id": "63275385-2786-405f-a04d-835db6643c1b",
   "metadata": {},
   "outputs": [],
   "source": []
  },
  {
   "cell_type": "code",
   "execution_count": null,
   "id": "f9336943-0e23-4536-bb48-226370b81b11",
   "metadata": {},
   "outputs": [],
   "source": []
  },
  {
   "cell_type": "code",
   "execution_count": null,
   "id": "56478498-f0b6-437b-bce5-5db4bb151aa2",
   "metadata": {},
   "outputs": [],
   "source": []
  },
  {
   "cell_type": "code",
   "execution_count": null,
   "id": "78ce2fd2-589f-4dd2-96b8-15226c63b829",
   "metadata": {},
   "outputs": [],
   "source": []
  },
  {
   "cell_type": "code",
   "execution_count": null,
   "id": "cd476d2e-d476-4774-8a22-3892caf3cb13",
   "metadata": {},
   "outputs": [],
   "source": []
  },
  {
   "cell_type": "code",
   "execution_count": null,
   "id": "80400c19-6bbb-44c8-996c-980ea2d0c4e1",
   "metadata": {},
   "outputs": [],
   "source": []
  },
  {
   "cell_type": "code",
   "execution_count": null,
   "id": "21355a4d-b3f7-4c58-8ed5-20fe36740462",
   "metadata": {},
   "outputs": [],
   "source": []
  },
  {
   "cell_type": "code",
   "execution_count": null,
   "id": "4a626d6d-3f44-4198-8630-59b2e27ad3c7",
   "metadata": {},
   "outputs": [],
   "source": []
  }
 ],
 "metadata": {
  "kernelspec": {
   "display_name": "Python 3 (ipykernel)",
   "language": "python",
   "name": "python3"
  },
  "language_info": {
   "codemirror_mode": {
    "name": "ipython",
    "version": 3
   },
   "file_extension": ".py",
   "mimetype": "text/x-python",
   "name": "python",
   "nbconvert_exporter": "python",
   "pygments_lexer": "ipython3",
   "version": "3.9.22"
  }
 },
 "nbformat": 4,
 "nbformat_minor": 5
}
