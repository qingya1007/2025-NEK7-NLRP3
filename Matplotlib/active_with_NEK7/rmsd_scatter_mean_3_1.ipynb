{
 "cells": [
  {
   "cell_type": "code",
   "execution_count": 1,
   "id": "ab7deea1-5a82-493d-8faf-3099c40404ac",
   "metadata": {},
   "outputs": [],
   "source": [
    "import numpy as np\n",
    "import matplotlib.pylab as plt\n",
    "import os\n",
    "import matplotlib.pyplot as plt\n",
    "from scipy.stats import gaussian_kde\n",
    "\n",
    "import matplotlib.patches as patches"
   ]
  },
  {
   "cell_type": "code",
   "execution_count": 2,
   "id": "2ff0829d-1fba-4331-85dd-8604bac4b5ff",
   "metadata": {},
   "outputs": [],
   "source": [
    "active_rmsd_1=np.loadtxt('rmsd_to_active.dat',comments=\"#\")\n",
    "#active_rmsd_2=np.loadtxt('/home/jinp/project/NLRP3/active_with_NEK7/MD2/RMSDF/rmsd_active_nek7_ADP.dat',comments=\"#\")\n",
    "#active_rmsd_3=np.loadtxt('/home/jinp/project/NLRP3/active_with_NEK7/MD3/RMSDF/rmsd_active_nek7_ADP.dat',comments=\"#\")\n",
    "\n",
    "\n",
    "rmsd_to_inactive=np.loadtxt('rmsd_to_inactive.dat',comments=\"#\")\n"
   ]
  },
  {
   "cell_type": "code",
   "execution_count": 3,
   "id": "becbe1de-48f2-422a-b293-d7f0d67bcf83",
   "metadata": {},
   "outputs": [],
   "source": [
    "x1 = active_rmsd_1[:,1]\n",
    "#b = active_rmsd_2[:,1]\n",
    "#c = active_rmsd_3[:,1]\n",
    "\n",
    "\n",
    "y1 = rmsd_to_inactive[:,1]\n",
    "#y2 = rmsd_to_inactive[:,1]\n",
    "#y3 = rmsd_to_inactive[:,1]"
   ]
  },
  {
   "cell_type": "code",
   "execution_count": 4,
   "id": "bb1e5091-e855-4335-bbd5-738a61c4fe8c",
   "metadata": {},
   "outputs": [],
   "source": [
    "x=np.array(x1)\n",
    "y=np.array(y1)\n",
    "xy=np.vstack([x,y])\n",
    "z=gaussian_kde(xy)(xy)\n",
    "from matplotlib.colors import ListedColormap,LinearSegmentedColormap\n",
    "from matplotlib import cm\n",
    "from matplotlib.colors import ListedColormap, LinearSegmentedColormap"
   ]
  },
  {
   "cell_type": "code",
   "execution_count": null,
   "id": "6a7f62b4-58bc-4a22-ae63-a951771367fb",
   "metadata": {},
   "outputs": [],
   "source": [
    "import scienceplots as sp\n",
    "plt.style.use('nature')"
   ]
  },
  {
   "cell_type": "code",
   "execution_count": 5,
   "id": "56f23163-ba82-4a86-a97b-10542521d06f",
   "metadata": {},
   "outputs": [
    {
     "data": {
      "image/png": "[encoded data removed]",
      "text/plain": [
       "<Figure size 400x260 with 1 Axes>"
      ]
     },
     "metadata": {},
     "output_type": "display_data"
    }
   ],
   "source": [
    "plt.figure(figsize=(2,1.8),dpi=300)\n",
    "plt.xlabel('RMSD to Inactive  ($\\AA$)',fontsize=6)\n",
    "#plt.xlabel('compare_to_inactive_RMSD ($\\AA$)',fontsize=10)\n",
    "#plt.title(\"active_with_nek7\",fontsize=13)\n",
    "plt.xlim([0,27])\n",
    "plt.ylim([0,33])\n",
    "fig=plt.scatter(20.6577,0,s=30,color='cyan',marker='*')\n",
    "plt.scatter(y1,x1,c=z,s=0.8, cmap='rainbow',edgecolors=None,linewidths=None,alpha=1,vmin=0,vmax=0.45,label='A$_{withNEK7}$')\n",
    "plt.yticks([])\n",
    "plt.legend( loc='lower left',fontsize=6)\n",
    "plt.xticks(np.arange(0, 36, step=9),fontsize=6)\n",
    "plt.xticks(fontsize=6)\n",
    "plt.savefig('scatter-rmsd_mean_3_1.svg',bbox_inches='tight',transparent=True)"
   ]
  },
  {
   "cell_type": "code",
   "execution_count": null,
   "id": "3c925c9c-f264-4c04-aeb5-5b484cae7c3c",
   "metadata": {},
   "outputs": [],
   "source": []
  },
  {
   "cell_type": "code",
   "execution_count": null,
   "id": "48f7cceb-2ace-425c-8805-d7b9529d37bc",
   "metadata": {},
   "outputs": [],
   "source": []
  },
  {
   "cell_type": "code",
   "execution_count": null,
   "id": "b36b37ad-3354-4709-ba8a-7c898374c702",
   "metadata": {},
   "outputs": [],
   "source": []
  },
  {
   "cell_type": "code",
   "execution_count": null,
   "id": "27dc337f-8011-4347-af18-6115d95ab830",
   "metadata": {},
   "outputs": [],
   "source": []
  }
 ],
 "metadata": {
  "kernelspec": {
   "display_name": "Python 3 (ipykernel)",
   "language": "python",
   "name": "python3"
  },
  "language_info": {
   "codemirror_mode": {
    "name": "ipython",
    "version": 3
   },
   "file_extension": ".py",
   "mimetype": "text/x-python",
   "name": "python",
   "nbconvert_exporter": "python",
   "pygments_lexer": "ipython3",
   "version": "3.9.22"
  }
 },
 "nbformat": 4,
 "nbformat_minor": 5
}
