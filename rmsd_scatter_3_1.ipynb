{
 "cells": [
  {
   "cell_type": "code",
   "execution_count": 1,
   "id": "c200b333-f569-40b2-86a1-0993f13b0137",
   "metadata": {},
   "outputs": [
    {
     "ename": "NameError",
     "evalue": "name 'plt' is not defined",
     "output_type": "error",
     "traceback": [
      "\u001b[0;31m---------------------------------------------------------------------------\u001b[0m",
      "\u001b[0;31mNameError\u001b[0m                                 Traceback (most recent call last)",
      "Cell \u001b[0;32mIn[1], line 3\u001b[0m\n\u001b[1;32m      1\u001b[0m \u001b[38;5;28;01mimport\u001b[39;00m \u001b[38;5;21;01mnumpy\u001b[39;00m \u001b[38;5;28;01mas\u001b[39;00m \u001b[38;5;21;01mnp\u001b[39;00m\n\u001b[1;32m      2\u001b[0m \u001b[38;5;28;01mimport\u001b[39;00m \u001b[38;5;21;01mscienceplots\u001b[39;00m \u001b[38;5;28;01mas\u001b[39;00m \u001b[38;5;21;01msp\u001b[39;00m\n\u001b[0;32m----> 3\u001b[0m \u001b[43mplt\u001b[49m\u001b[38;5;241m.\u001b[39mstyle\u001b[38;5;241m.\u001b[39muse(\u001b[38;5;124m'\u001b[39m\u001b[38;5;124mnature\u001b[39m\u001b[38;5;124m'\u001b[39m)\n\u001b[1;32m      4\u001b[0m \u001b[38;5;28;01mimport\u001b[39;00m \u001b[38;5;21;01mmatplotlib\u001b[39;00m\u001b[38;5;21;01m.\u001b[39;00m\u001b[38;5;21;01mpyplot\u001b[39;00m \u001b[38;5;28;01mas\u001b[39;00m \u001b[38;5;21;01mplt\u001b[39;00m\n",
      "\u001b[0;31mNameError\u001b[0m: name 'plt' is not defined"
     ]
    }
   ],
   "source": [
    "import numpy as np\n",
    "import scienceplots as sp\n",
    "import matplotlib.pyplot as plt"
   ]
  },
  {
   "cell_type": "code",
   "execution_count": null,
   "id": "c8eefff0-a54f-4041-a58e-a1806cc4fb64",
   "metadata": {},
   "outputs": [],
   "source": [
    "import numpy as np\n",
    "import matplotlib.pylab as plt\n",
    "import os\n",
    "from scipy.stats import gaussian_kde\n",
    "\n",
    "import matplotlib.pyplot as plt\n",
    "import matplotlib.patches as patches"
   ]
  },
  {
   "cell_type": "code",
   "execution_count": null,
   "id": "6db8ebc6-0fc8-4404-a551-c5be416a8c29",
   "metadata": {},
   "outputs": [],
   "source": [
    "import matplotlib.pyplot as plt\n",
    "import matplotlib.patches as patches"
   ]
  },
  {
   "cell_type": "code",
   "execution_count": null,
   "id": "78032264-77ce-40bf-8067-4c78ea4f31cf",
   "metadata": {},
   "outputs": [],
   "source": [
    "inactive_rmsd_1=np.loadtxt('rmsd_to_inactive.dat',comments=\"#\")\n",
    "#inactive_rmsd_2=np.loadtxt('/home/jinp/project/NLRP3/inactive_no_NEK7/MD2/rmsd_6npy_deletednek7_ADP_2.dat',comments=\"#\")\n",
    "#inactive_rmsd_3=np.loadtxt('/home/jinp/project/NLRP3/inactive_no_NEK7/MD3/rmsd_6npy_deletednek7_ADP_3.dat',comments=\"#\")\n",
    "\n",
    "\n",
    "rmsd_to_active=np.loadtxt('rmsd_to_Active.dat',comments=\"#\")\n"
   ]
  },
  {
   "cell_type": "code",
   "execution_count": null,
   "id": "c4903ac1-98d8-44ea-9f43-8a5ff59d343d",
   "metadata": {},
   "outputs": [],
   "source": [
    "x1 = inactive_rmsd_1[:,1]\n",
    "#x2 = inactive_rmsd_2[:,1]\n",
    "#x3 = inactive_rmsd_3[:,1]\n",
    "\n",
    "\n",
    "y1 = rmsd_to_active[:,1]\n",
    "#y2 = rmsd_to_active[:,1]\n",
    "#y3 = rmsd_to_active[:,1]"
   ]
  },
  {
   "cell_type": "code",
   "execution_count": null,
   "id": "71577164-b3b0-420c-a7bf-408070442550",
   "metadata": {},
   "outputs": [],
   "source": [
    "plt.scatter(x1,y1)\n",
    "#plt.scatter(x2,y2)\n",
    "#plt.scatter(x3,y3)"
   ]
  },
  {
   "cell_type": "code",
   "execution_count": null,
   "id": "603ba13f-4522-45ac-a2c0-1d46b711b3f8",
   "metadata": {},
   "outputs": [],
   "source": [
    "xy=np.vstack([x1,y1])\n",
    "z=gaussian_kde(xy)(xy)\n",
    "from matplotlib.colors import ListedColormap,LinearSegmentedColormap\n",
    "from matplotlib import cm\n",
    "from matplotlib.colors import ListedColormap, LinearSegmentedColormap\n",
    "cmap = LinearSegmentedColormap.from_list('mycmap',[(0, 'b'),(0.25,'cyan'),(0.5,'lightgreen'),(0.75, 'yellow'),(1, 'r')])"
   ]
  },
  {
   "cell_type": "code",
   "execution_count": null,
   "id": "f42a98b3-d22b-4473-bd5a-c171af9f725f",
   "metadata": {},
   "outputs": [],
   "source": [
    "plt.style.use('nature')\n"
   ]
  },
  {
   "cell_type": "code",
   "execution_count": null,
   "id": "c1dcbda3-365f-43a8-b52c-fa46cd851a66",
   "metadata": {},
   "outputs": [],
   "source": [
    "plt.figure(figsize=(2,1.8),dpi=300)\n",
    "#plt.xlabel('Compare to inactive RMSD ($\\AA$)',fontsize=6)\n",
    "plt.ylabel('RMSD to Active ($\\AA$)',fontsize=6)\n",
    "plt.scatter(x1,y1,s=0.8, c=z,  cmap='rainbow',edgecolors=None,linewidths=None,alpha=1,vmin=0,vmax=0.45,label='I$_{withoutNEK7}$')\n",
    "#plt.scatter(x2,y2,s=0.8, color='blue',edgecolors=None,linewidths=None,alpha=0.55,label='inactive_without_nek7_2')\n",
    "#plt.scatter(x3,y3,s=0.8, color='orange',edgecolors=None,linewidths=None,alpha=0.55,label='inactive_without_nek7_3')\n",
    "#plt.legend(loc=1,fontsize=4)\n",
    "\n",
    "plt.legend(  loc='lower left',fontsize=6)\n",
    "plt.xticks(np.arange(0, 36, step=9),fontsize=6)\n",
    "plt.yticks(np.arange(0, 44, step=11),fontsize=6)\n",
    "\n",
    "plt.xlim([0,27])\n",
    "plt.ylim([0,33])\n",
    "fig=plt.scatter(0,20.6849,s=30,color='cyan',marker='*')\n",
    "\n",
    "plt.xticks([])\n",
    "\n",
    "#plt.colorbar()\n",
    "\n",
    "plt.savefig('scatter-rmsd_3_1.svg',bbox_inches='tight',transparent=True)"
   ]
  },
  {
   "cell_type": "code",
   "execution_count": null,
   "id": "298f3c2b-9ab0-4257-a3e1-87c353aee432",
   "metadata": {},
   "outputs": [],
   "source": []
  },
  {
   "cell_type": "code",
   "execution_count": null,
   "id": "7537f8f1-fe6d-48ff-80c2-4d779d67594f",
   "metadata": {},
   "outputs": [],
   "source": []
  },
  {
   "cell_type": "code",
   "execution_count": null,
   "id": "745c50c8-5dc9-4ea8-b980-f388fe24201f",
   "metadata": {},
   "outputs": [],
   "source": []
  },
  {
   "cell_type": "code",
   "execution_count": null,
   "id": "cb1fa583-78c4-40f2-a64e-3ab93aaa3d9a",
   "metadata": {},
   "outputs": [],
   "source": []
  },
  {
   "cell_type": "code",
   "execution_count": null,
   "id": "b21b4258-fc55-4420-be4a-6e2b57ee02d6",
   "metadata": {},
   "outputs": [],
   "source": []
  },
  {
   "cell_type": "code",
   "execution_count": null,
   "id": "73d98b16-0b5d-4495-8db9-0b600abe51f9",
   "metadata": {},
   "outputs": [],
   "source": []
  },
  {
   "cell_type": "code",
   "execution_count": null,
   "id": "05863b21-e4e0-4d06-a652-26e236a78b02",
   "metadata": {},
   "outputs": [],
   "source": []
  },
  {
   "cell_type": "code",
   "execution_count": null,
   "id": "77612eca-0f4e-4b12-b623-b6c4f28222b3",
   "metadata": {},
   "outputs": [],
   "source": []
  },
  {
   "cell_type": "code",
   "execution_count": null,
   "id": "3ebd4713-d297-4848-b52a-b19576a3c731",
   "metadata": {},
   "outputs": [],
   "source": []
  },
  {
   "cell_type": "code",
   "execution_count": null,
   "id": "5c376f09-71a9-4e53-a8b1-0cf90a4720e9",
   "metadata": {},
   "outputs": [],
   "source": []
  },
  {
   "cell_type": "code",
   "execution_count": null,
   "id": "f44fc8c6-acbb-4199-99aa-89e6ee9b7a8a",
   "metadata": {},
   "outputs": [],
   "source": []
  },
  {
   "cell_type": "code",
   "execution_count": null,
   "id": "f9f0dc2a-6b51-4d6c-b556-a1d7179ca2a0",
   "metadata": {},
   "outputs": [],
   "source": []
  },
  {
   "cell_type": "code",
   "execution_count": null,
   "id": "35d5be15-d887-45ae-bdcb-9a8dc7bee5f4",
   "metadata": {},
   "outputs": [],
   "source": []
  }
 ],
 "metadata": {
  "kernelspec": {
   "display_name": "Python 3 (ipykernel)",
   "language": "python",
   "name": "python3"
  },
  "language_info": {
   "codemirror_mode": {
    "name": "ipython",
    "version": 3
   },
   "file_extension": ".py",
   "mimetype": "text/x-python",
   "name": "python",
   "nbconvert_exporter": "python",
   "pygments_lexer": "ipython3",
   "version": "3.9.22"
  }
 },
 "nbformat": 4,
 "nbformat_minor": 5
}
